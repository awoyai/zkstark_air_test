{
 "cells": [
  {
   "cell_type": "markdown",
   "metadata": {},
   "source": [
    "### Cairo Environment Setup\n",
    "PS：需要安装python，最好是python3.9,且版本不能为最新的3.10(会在编译cairo时出现错误, 当前时间2022.09.06)\n",
    "##### 1.Install preliminary packages\n",
    "\n",
    "System\n",
    "\n",
    "Ubuntu: `sudo apt install -y libgmp3-dev`\n",
    "\n",
    "Mac: `brew install gmp`\n",
    "\n",
    "Python\n",
    "\n",
    "python packages: `pip3 install ecdsa fastecdsa sympy`\n",
    "\n",
    "##### 2.Install Cairo\n",
    "\n",
    "`pip3 install cairo-lang`"
   ]
  }
 ],
 "metadata": {
  "kernelspec": {
   "display_name": "Python 3.10.4 64-bit",
   "language": "python",
   "name": "python3"
  },
  "language_info": {
   "name": "python",
   "version": "3.10.4"
  },
  "orig_nbformat": 4,
  "vscode": {
   "interpreter": {
    "hash": "767d51c1340bd893661ea55ea3124f6de3c7a262a8b4abca0554b478b1e2ff90"
   }
  }
 },
 "nbformat": 4,
 "nbformat_minor": 2
}
