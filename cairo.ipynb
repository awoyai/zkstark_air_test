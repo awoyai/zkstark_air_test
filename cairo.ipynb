{
 "cells": [
  {
   "cell_type": "markdown",
   "metadata": {},
   "source": [
    "### 简介\n",
    "\n",
    "是用于编写可验证程序的编程语言，其中一方可以向另一方证明正确执行某个计算。\n",
    "\n",
    "<br/>\n",
    "\n",
    "9.12日 starkware发布Cairo 1.0\n",
    "Cairo 1.0 将为开发人员提供更安全、更简单、更实用的编程语言，最开始的Cairo被设计成类似汇编的语言，但是现在看来可能更像JavaScript或者是python，能看到很多其他优秀语言的影子。\n",
    "\n",
    "引入了Sierra，它是一个中间表示层，承诺为 Cairo 程序提供更大的长期稳定性\n",
    "\n",
    "Sierra 推动 Cairo 在无需许可的网络中服务：\n",
    "\n",
    "-保护网络：它允许更强大的 DoS 保护\n",
    "\n",
    "-保护用户：它允许以太坊级审查阻力\n",
    "\n",
    "<br/>\n",
    "\n",
    "### Cairo Environment Setup\n",
    "\n",
    "PS：需要安装python，最好是python3.9(新版本可能会在编译cairo时出现错误, 当前时间2022.09.06)\n",
    "\n",
    "<br/>\n",
    "\n",
    "设置虚拟环境\n",
    "`python3.9 -m venv ~/cairo_venv`\n",
    "`source ~/cairo_venv/bin/activate`\n",
    "\n",
    "#### 1.Install preliminary packages\n",
    "\n",
    "**System**\n",
    "\n",
    "Ubuntu: `sudo apt install -y libgmp3-dev`\n",
    "\n",
    "Mac: `brew install gmp`\n",
    "\n",
    "**Python**\n",
    "\n",
    "python packages: `pip3 install ecdsa fastecdsa sympy`\n",
    "\n",
    "`wget https://github.com/starkware-libs/cairo-lang/releases/tag/v0.10.0`\n",
    "\n",
    "`pip3 install cairo-lang`\n",
    "\n",
    "<br/>\n",
    "\n",
    "#### 3. First Function"
   ]
  }
 ],
 "metadata": {
  "kernelspec": {
   "display_name": "Python 3.10.4 64-bit",
   "language": "python",
   "name": "python3"
  },
  "language_info": {
   "name": "python",
   "version": "3.10.4"
  },
  "orig_nbformat": 4,
  "vscode": {
   "interpreter": {
    "hash": "767d51c1340bd893661ea55ea3124f6de3c7a262a8b4abca0554b478b1e2ff90"
   }
  }
 },
 "nbformat": 4,
 "nbformat_minor": 2
}
