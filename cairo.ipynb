{
 "cells": [
  {
   "cell_type": "markdown",
   "metadata": {},
   "source": [
    "### Cairo Environment Setup\n",
    "PS：需要安装python，最好是python3.9,且版本不能为最新的3.10(会在编译cairo时出现错误)\n",
    "##### 1.Install preliminary packages\n",
    "Ubuntu: `sudo apt install -y libgmp3-dev`\n",
    "\n",
    "Mac: `brew install gmp`\n",
    "\n",
    "python packages: `pip3 install ecdsa fastecdsa sympy`\n",
    "\n",
    "##### 2.Install Cairo\n",
    "`pip3 install cairo-lang`"
   ]
  },
  {
   "cell_type": "markdown",
   "metadata": {},
   "source": [
    "1. cairo 无法使用循环，只能用递归替代循环\n",
    "2. cairo 写入内存的值就不能改变\n",
    "\n",
    "内存分配：我们使用标准库函数alloc()来分配一个新的内存段,实际上，分配内存的确切位置只有在程序终止时才会确定，这样我们就可以避免指定分配的大小"
   ]
  }
 ],
 "metadata": {
  "kernelspec": {
   "display_name": "Python 3.10.4 64-bit",
   "language": "python",
   "name": "python3"
  },
  "language_info": {
   "name": "python",
   "version": "3.10.4"
  },
  "orig_nbformat": 4,
  "vscode": {
   "interpreter": {
    "hash": "767d51c1340bd893661ea55ea3124f6de3c7a262a8b4abca0554b478b1e2ff90"
   }
  }
 },
 "nbformat": 4,
 "nbformat_minor": 2
}
