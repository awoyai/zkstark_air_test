{
 "cells": [
  {
   "cell_type": "markdown",
   "metadata": {},
   "source": [
    "#### 1. set env\n",
    "\n",
    "将StarkNet网络设置为测试网络\n",
    "\n",
    "`export STARKNET_NETWORK=alpha-goerli`\n",
    "\n",
    "选择一个钱包提供商\n",
    "\n",
    "`export STARKNET_WALLET=starkware.starknet.wallets.open_zeppelin.OpenZeppelinAccount`\n",
    "\n",
    "创建一个账户\n",
    "\n",
    "获取一些ETH代币\n",
    "\n",
    "#### 2.编写第一个合约\n",
    "\n",
    "#### 3.部署合约"
   ]
  }
 ],
 "metadata": {
  "language_info": {
   "name": "python"
  },
  "orig_nbformat": 4
 },
 "nbformat": 4,
 "nbformat_minor": 2
}
